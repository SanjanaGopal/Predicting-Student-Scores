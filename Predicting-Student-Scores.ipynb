{
 "cells": [
  {
   "cell_type": "markdown",
   "metadata": {},
   "source": [
    "# Predicting Test Scores\n",
    "\n",
    "#### Using Simple Linear Regression Model (SLRM)"
   ]
  },
  {
   "cell_type": "markdown",
   "metadata": {},
   "source": [
    "We have a small student dataset consisting of two variables - hours of study and scores. We want to develop a model to predict the students' scores from the hours of study they put in. Hence, we shall use a Simple Linear Regression technique with the following steps:\n",
    "\n",
    "1) Exploring Data + Visualisation\n",
    "\n",
    "2) Preparing Data\n",
    "\n",
    "3) Modeling on Training Data\n",
    "\n",
    "4) Evaluating on Test Data\n",
    "\n",
    "5) Try a random prediction"
   ]
  },
  {
   "cell_type": "code",
   "execution_count": 118,
   "metadata": {},
   "outputs": [],
   "source": [
    "#importing libraries\n",
    "import os\n",
    "import pandas as pd\n",
    "import numpy as np\n",
    "import seaborn as sns\n",
    "import matplotlib.pyplot as plt\n",
    "%matplotlib inline"
   ]
  },
  {
   "cell_type": "code",
   "execution_count": 119,
   "metadata": {},
   "outputs": [],
   "source": [
    "os.chdir(\"D:\\Sanju_Folder\\Internship\\Sparks\")"
   ]
  },
  {
   "cell_type": "markdown",
   "metadata": {},
   "source": [
    "### 1) Exploring Data + Visualisation"
   ]
  },
  {
   "cell_type": "code",
   "execution_count": 138,
   "metadata": {},
   "outputs": [
    {
     "name": "stdout",
     "output_type": "stream",
     "text": [
      "(25, 2)\n",
      "Our data has 2 variables and 25 observations\n"
     ]
    }
   ],
   "source": [
    "#Reading data\n",
    "data = pd.read_csv(\"Scores_data.csv\")\n",
    "print(data.shape)\n",
    "print(\"Our data has 2 variables and 25 observations\")"
   ]
  },
  {
   "cell_type": "code",
   "execution_count": 121,
   "metadata": {},
   "outputs": [
    {
     "data": {
      "text/html": [
       "<div>\n",
       "<style scoped>\n",
       "    .dataframe tbody tr th:only-of-type {\n",
       "        vertical-align: middle;\n",
       "    }\n",
       "\n",
       "    .dataframe tbody tr th {\n",
       "        vertical-align: top;\n",
       "    }\n",
       "\n",
       "    .dataframe thead th {\n",
       "        text-align: right;\n",
       "    }\n",
       "</style>\n",
       "<table border=\"1\" class=\"dataframe\">\n",
       "  <thead>\n",
       "    <tr style=\"text-align: right;\">\n",
       "      <th></th>\n",
       "      <th>Hours</th>\n",
       "      <th>Scores</th>\n",
       "    </tr>\n",
       "  </thead>\n",
       "  <tbody>\n",
       "    <tr>\n",
       "      <th>0</th>\n",
       "      <td>2.5</td>\n",
       "      <td>21</td>\n",
       "    </tr>\n",
       "    <tr>\n",
       "      <th>1</th>\n",
       "      <td>5.1</td>\n",
       "      <td>47</td>\n",
       "    </tr>\n",
       "    <tr>\n",
       "      <th>2</th>\n",
       "      <td>3.2</td>\n",
       "      <td>27</td>\n",
       "    </tr>\n",
       "    <tr>\n",
       "      <th>3</th>\n",
       "      <td>8.5</td>\n",
       "      <td>75</td>\n",
       "    </tr>\n",
       "    <tr>\n",
       "      <th>4</th>\n",
       "      <td>3.5</td>\n",
       "      <td>30</td>\n",
       "    </tr>\n",
       "  </tbody>\n",
       "</table>\n",
       "</div>"
      ],
      "text/plain": [
       "   Hours  Scores\n",
       "0    2.5      21\n",
       "1    5.1      47\n",
       "2    3.2      27\n",
       "3    8.5      75\n",
       "4    3.5      30"
      ]
     },
     "execution_count": 121,
     "metadata": {},
     "output_type": "execute_result"
    }
   ],
   "source": [
    "# Viewing data\n",
    "data.head()"
   ]
  },
  {
   "cell_type": "code",
   "execution_count": 122,
   "metadata": {},
   "outputs": [
    {
     "data": {
      "text/plain": [
       "Hours     float64\n",
       "Scores      int64\n",
       "dtype: object"
      ]
     },
     "execution_count": 122,
     "metadata": {},
     "output_type": "execute_result"
    }
   ],
   "source": [
    "# Data types\n",
    "data.dtypes"
   ]
  },
  {
   "cell_type": "markdown",
   "metadata": {},
   "source": [
    "Now that we have understood the dimensions of the dataset along with the data types and a brief idea about the values, let us explore each variable in detail through:\n",
    "\n",
    "a) Univariate Analysis\n",
    "\n",
    "b) Bivariate Analysis\n",
    "\n",
    "#### a) Univariate Analysis\n",
    "\n",
    "##### Hours of Study"
   ]
  },
  {
   "cell_type": "code",
   "execution_count": 123,
   "metadata": {},
   "outputs": [
    {
     "name": "stdout",
     "output_type": "stream",
     "text": [
      "Min Hours of Study: 1.1\n",
      "Max Hours of Study: 9.2\n",
      "Mean Hours of Study: 5.012\n",
      "Median Hours of Study: 4.8\n"
     ]
    },
    {
     "data": {
      "image/png": "[encoded data removed]",
      "text/plain": [
       "<Figure size 432x288 with 1 Axes>"
      ]
     },
     "metadata": {
      "needs_background": "light"
     },
     "output_type": "display_data"
    }
   ],
   "source": [
    "#Exploring Hours of Study\n",
    "Mean = np.mean(data['Hours'])\n",
    "Median = np.median(data['Hours'])\n",
    "Max = np.max(data['Hours'])\n",
    "Min = np.min(data['Hours'])\n",
    "sns.boxplot(data['Hours'])\n",
    "print(\"Min Hours of Study:\",Min)\n",
    "print(\"Max Hours of Study:\",Max)\n",
    "print(\"Mean Hours of Study:\",Mean)\n",
    "print(\"Median Hours of Study:\",Median)"
   ]
  },
  {
   "cell_type": "markdown",
   "metadata": {},
   "source": [
    "Upon observing the distribution of the variable 'Hours', we see that there are no outliers present, indicated by the boxplot. There is no significant difference between the mean and median hours of study. Therefore, no data cleaning is required here. We see that the students have studied for a roughly a minimum of 1 hour and a maximum of 9 hours. "
   ]
  },
  {
   "cell_type": "markdown",
   "metadata": {},
   "source": [
    "We can bucket the hours of study into 3 categories - 1 to 3 hours, 3 to 6 hours and greater than 6 hours. This is just to add some granularity to our analysis. We label these categories and Short, Moderation and Long and name the new variable as 'Duration. We can also observe the general behaviour of our students i.e proportion of students who study less/more.\n",
    "\n",
    "Note that the variable so created will be a categorical variable.\n",
    "\n",
    "##### Creating new variable 'Duration'"
   ]
  },
  {
   "cell_type": "code",
   "execution_count": 140,
   "metadata": {},
   "outputs": [
    {
     "data": {
      "text/html": [
       "<div>\n",
       "<style scoped>\n",
       "    .dataframe tbody tr th:only-of-type {\n",
       "        vertical-align: middle;\n",
       "    }\n",
       "\n",
       "    .dataframe tbody tr th {\n",
       "        vertical-align: top;\n",
       "    }\n",
       "\n",
       "    .dataframe thead th {\n",
       "        text-align: right;\n",
       "    }\n",
       "</style>\n",
       "<table border=\"1\" class=\"dataframe\">\n",
       "  <thead>\n",
       "    <tr style=\"text-align: right;\">\n",
       "      <th></th>\n",
       "      <th>Hours</th>\n",
       "      <th>Scores</th>\n",
       "      <th>Duration</th>\n",
       "    </tr>\n",
       "  </thead>\n",
       "  <tbody>\n",
       "    <tr>\n",
       "      <th>0</th>\n",
       "      <td>2.5</td>\n",
       "      <td>21</td>\n",
       "      <td>Short</td>\n",
       "    </tr>\n",
       "    <tr>\n",
       "      <th>1</th>\n",
       "      <td>5.1</td>\n",
       "      <td>47</td>\n",
       "      <td>Moderate</td>\n",
       "    </tr>\n",
       "    <tr>\n",
       "      <th>2</th>\n",
       "      <td>3.2</td>\n",
       "      <td>27</td>\n",
       "      <td>Moderate</td>\n",
       "    </tr>\n",
       "    <tr>\n",
       "      <th>3</th>\n",
       "      <td>8.5</td>\n",
       "      <td>75</td>\n",
       "      <td>Long</td>\n",
       "    </tr>\n",
       "    <tr>\n",
       "      <th>4</th>\n",
       "      <td>3.5</td>\n",
       "      <td>30</td>\n",
       "      <td>Moderate</td>\n",
       "    </tr>\n",
       "  </tbody>\n",
       "</table>\n",
       "</div>"
      ],
      "text/plain": [
       "   Hours  Scores  Duration\n",
       "0    2.5      21     Short\n",
       "1    5.1      47  Moderate\n",
       "2    3.2      27  Moderate\n",
       "3    8.5      75      Long\n",
       "4    3.5      30  Moderate"
      ]
     },
     "execution_count": 140,
     "metadata": {},
     "output_type": "execute_result"
    }
   ],
   "source": [
    "# Creating new variable\n",
    "\n",
    "# List of conditions\n",
    "conditions =[(data['Hours'] >= 1) & (data['Hours'] < 3),\n",
    "              (data['Hours'] >= 3) & (data['Hours'] < 6),\n",
    "               (data['Hours'] >= 6)]\n",
    "\n",
    "# List of values for each condition\n",
    "values = ['Short','Moderate','Long']\n",
    "\n",
    "# Assigning values and creating variable\n",
    "data['Duration'] = np.select(conditions,values)\n",
    "data.head()"
   ]
  },
  {
   "cell_type": "markdown",
   "metadata": {},
   "source": [
    "##### Duration"
   ]
  },
  {
   "cell_type": "code",
   "execution_count": 141,
   "metadata": {},
   "outputs": [
    {
     "data": {
      "text/plain": [
       "<matplotlib.axes._subplots.AxesSubplot at 0x1c43cf4f5f8>"
      ]
     },
     "execution_count": 141,
     "metadata": {},
     "output_type": "execute_result"
    },
    {
     "data": {
      "image/png": "[encoded data removed]",
      "text/plain": [
       "<Figure size 432x288 with 1 Axes>"
      ]
     },
     "metadata": {
      "needs_background": "light"
     },
     "output_type": "display_data"
    }
   ],
   "source": [
    "# Observing distribution of Duration\n",
    "sns.countplot(data['Duration'], palette = 'spring')"
   ]
  },
  {
   "cell_type": "markdown",
   "metadata": {},
   "source": [
    "So there is relatively higher proportion of students who study for Moderate and Long durations compared to Short durations."
   ]
  },
  {
   "cell_type": "markdown",
   "metadata": {},
   "source": [
    "#### b) Bivariate Analysis\n",
    "\n",
    "##### Hours of study with Scores"
   ]
  },
  {
   "cell_type": "code",
   "execution_count": 142,
   "metadata": {},
   "outputs": [
    {
     "name": "stdout",
     "output_type": "stream",
     "text": [
      "Trend of Student Scores with Hours of Study\n"
     ]
    },
    {
     "data": {
      "image/png": "[encoded data removed]",
      "text/plain": [
       "<Figure size 432x288 with 1 Axes>"
      ]
     },
     "metadata": {
      "needs_background": "light"
     },
     "output_type": "display_data"
    }
   ],
   "source": [
    "# Hours vs Score\n",
    "sns.scatterplot(x=data['Hours'], y=data['Scores'], data =data)\n",
    "print(\"Trend of Student Scores with Hours of Study\")"
   ]
  },
  {
   "cell_type": "markdown",
   "metadata": {},
   "source": [
    "#### Scores with Duration of study"
   ]
  },
  {
   "cell_type": "code",
   "execution_count": 143,
   "metadata": {},
   "outputs": [
    {
     "name": "stdout",
     "output_type": "stream",
     "text": [
      "Student Scores vs Duration of Study\n"
     ]
    },
    {
     "data": {
      "image/png": "[encoded data removed]",
      "text/plain": [
       "<Figure size 432x288 with 1 Axes>"
      ]
     },
     "metadata": {
      "needs_background": "light"
     },
     "output_type": "display_data"
    }
   ],
   "source": [
    "# Hours vs Score with Duration indicators\n",
    "sns.scatterplot(x=data['Hours'], y=data['Scores'], data =data, hue = data['Duration'])\n",
    "print(\"Student Scores vs Duration of Study\")"
   ]
  },
  {
   "cell_type": "markdown",
   "metadata": {},
   "source": [
    "So we observe that there is a positive correlation between no. of hours that students study and the scores they get. There does not also seem to be any exceptional case of low hours and high scores or vice-versa. Let us now look at the relative proportion of students who study less or more."
   ]
  },
  {
   "cell_type": "markdown",
   "metadata": {},
   "source": [
    "### 2) Preparing Data"
   ]
  },
  {
   "cell_type": "code",
   "execution_count": 130,
   "metadata": {},
   "outputs": [
    {
     "data": {
      "text/plain": [
       "Scores        int64\n",
       "Hours       float64\n",
       "Duration     object\n",
       "dtype: object"
      ]
     },
     "execution_count": 130,
     "metadata": {},
     "output_type": "execute_result"
    }
   ],
   "source": [
    "# Rearranging columns\n",
    "data1 = data[['Scores','Hours','Duration']]\n",
    "data1.dtypes"
   ]
  },
  {
   "cell_type": "code",
   "execution_count": 131,
   "metadata": {},
   "outputs": [
    {
     "name": "stdout",
     "output_type": "stream",
     "text": [
      "(25, 1)\n",
      "(25, 1)\n"
     ]
    }
   ],
   "source": [
    "# Marking dependent and independent variables\n",
    "X = data1.iloc[:,1].values\n",
    "Y = data1.iloc[:,0].values\n",
    "#X1 = pd.DataFrame(data2['Hours'])\n",
    "#Y1 = pd.DataFrame(data2['Scores'])\n",
    "X = X.reshape((25,1))\n",
    "Y = Y.reshape((25,1))\n",
    "print(X.shape)\n",
    "print(Y.shape)"
   ]
  },
  {
   "cell_type": "code",
   "execution_count": 133,
   "metadata": {},
   "outputs": [
    {
     "name": "stdout",
     "output_type": "stream",
     "text": [
      "(20, 1)\n"
     ]
    },
    {
     "data": {
      "text/plain": [
       "(20, 1)"
      ]
     },
     "execution_count": 133,
     "metadata": {},
     "output_type": "execute_result"
    }
   ],
   "source": [
    "# Splitting data into train and test\n",
    "from sklearn.model_selection import train_test_split\n",
    "\n",
    "X_train,X_test,Y_train,Y_test = train_test_split(X,Y,test_size=0.2,random_state=100)\n",
    "print(X1_train.shape)\n",
    "Y1_train.shape"
   ]
  },
  {
   "cell_type": "markdown",
   "metadata": {},
   "source": [
    "### 3) Modeling on Training Data"
   ]
  },
  {
   "cell_type": "code",
   "execution_count": 134,
   "metadata": {},
   "outputs": [
    {
     "name": "stdout",
     "output_type": "stream",
     "text": [
      "Regression coefficient is: [[9.83544438]]\n",
      "Intercept is: [1.98942311]\n"
     ]
    }
   ],
   "source": [
    "from sklearn.linear_model import LinearRegression\n",
    "\n",
    "# Creating instance\n",
    "regressor = LinearRegression()\n",
    "regressor.fit(X_train,Y_train)\n",
    "\n",
    "print('Regression coefficient is:', regressor.coef_)\n",
    "print('Intercept is:',regressor.intercept_)"
   ]
  },
  {
   "cell_type": "code",
   "execution_count": 135,
   "metadata": {},
   "outputs": [
    {
     "data": {
      "text/plain": [
       "<function matplotlib.pyplot.show(*args, **kw)>"
      ]
     },
     "execution_count": 135,
     "metadata": {},
     "output_type": "execute_result"
    },
    {
     "data": {
      "image/png": "[encoded data removed]",
      "text/plain": [
       "<Figure size 432x288 with 1 Axes>"
      ]
     },
     "metadata": {
      "needs_background": "light"
     },
     "output_type": "display_data"
    }
   ],
   "source": [
    "# Regression line\n",
    "line = regressor.intercept_ + regressor.coef_*X\n",
    "\n",
    "plt.scatter(X,Y,c='r', label='Actual data point')\n",
    "plt.plot(X,line,c='g', label='Regression line')\n",
    "plt.title('Regression Line with Training Data')\n",
    "plt.xlabel('Hours of Study')\n",
    "plt.ylabel('Scores')\n",
    "plt.legend()\n",
    "plt.show"
   ]
  },
  {
   "cell_type": "markdown",
   "metadata": {},
   "source": [
    "### 4) Predicting on Test Data"
   ]
  },
  {
   "cell_type": "code",
   "execution_count": 54,
   "metadata": {},
   "outputs": [],
   "source": [
    "# Creating predictions using model\n",
    "Y_pred = regressor.predict(X_test)"
   ]
  },
  {
   "cell_type": "code",
   "execution_count": 136,
   "metadata": {},
   "outputs": [
    {
     "name": "stdout",
     "output_type": "stream",
     "text": [
      "Mean Absolute Error (MAE) is: 4.140342096254413\n"
     ]
    }
   ],
   "source": [
    "# Evaluating with Mean Absolute Error on test data\n",
    "from sklearn import metrics\n",
    "print(\"Mean Absolute Error (MAE) is:\",metrics.mean_absolute_error(Y_test,Y_pred))"
   ]
  },
  {
   "cell_type": "markdown",
   "metadata": {},
   "source": [
    "### 5) Trying a random prediction"
   ]
  },
  {
   "cell_type": "code",
   "execution_count": 77,
   "metadata": {},
   "outputs": [
    {
     "name": "stdout",
     "output_type": "stream",
     "text": [
      "Predicted Score for 6 hours of study is: [[61.00208941]]\n"
     ]
    }
   ],
   "source": [
    "# Applying model for use\n",
    "\n",
    "Hours_studied = 6  #enter value here\n",
    "input_value = [Hours_studied] \n",
    "deploy = pd.DataFrame(input_value)\n",
    "Score_prediction = regressor.predict(deploy)\n",
    "print('Predicted Score for',Hours_studied, 'hours of study is:',Score_prediction)"
   ]
  }
 ],
 "metadata": {
  "kernelspec": {
   "display_name": "Python 3",
   "language": "python",
   "name": "python3"
  },
  "language_info": {
   "codemirror_mode": {
    "name": "ipython",
    "version": 3
   },
   "file_extension": ".py",
   "mimetype": "text/x-python",
   "name": "python",
   "nbconvert_exporter": "python",
   "pygments_lexer": "ipython3",
   "version": "3.7.3"
  }
 },
 "nbformat": 4,
 "nbformat_minor": 2
}
